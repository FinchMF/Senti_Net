{
 "nbformat": 4,
 "nbformat_minor": 2,
 "metadata": {
  "language_info": {
   "name": "python",
   "codemirror_mode": {
    "name": "ipython",
    "version": 3
   },
   "version": "3.7.3-final"
  },
  "orig_nbformat": 2,
  "file_extension": ".py",
  "mimetype": "text/x-python",
  "name": "python",
  "npconvert_exporter": "python",
  "pygments_lexer": "ipython3",
  "version": 3,
  "kernelspec": {
   "name": "python37364bitanaconda3virtualenve0beec8455a449faa64632dc843014f3",
   "display_name": "Python 3.7.3 64-bit ('anaconda3': virtualenv)"
  }
 },
 "cells": [
  {
   "cell_type": "code",
   "execution_count": 70,
   "metadata": {},
   "outputs": [],
   "source": [
    "import pandas as pd\n",
    "import glob"
   ]
  },
  {
   "cell_type": "code",
   "execution_count": 71,
   "metadata": {},
   "outputs": [],
   "source": [
    "names = glob.glob('/Volumes/S200408/Coding/NumpyVKerasVPytorchNN/tweets/*.csv')"
   ]
  },
  {
   "cell_type": "code",
   "execution_count": 73,
   "metadata": {},
   "outputs": [
    {
     "output_type": "execute_result",
     "data": {
      "text/plain": "['/Volumes/S200408/Coding/NumpyVKerasVPytorchNN/tweets/realDonaldTrump_tweets.csv',\n '/Volumes/S200408/Coding/NumpyVKerasVPytorchNN/tweets/Mike_Pence_tweets.csv',\n '/Volumes/S200408/Coding/NumpyVKerasVPytorchNN/tweets/VP_tweets.csv',\n '/Volumes/S200408/Coding/NumpyVKerasVPytorchNN/tweets/seanhannity_tweets.csv',\n '/Volumes/S200408/Coding/NumpyVKerasVPytorchNN/tweets/BarackObama_tweets.csv',\n '/Volumes/S200408/Coding/NumpyVKerasVPytorchNN/tweets/BernieSanders_tweets.csv',\n '/Volumes/S200408/Coding/NumpyVKerasVPytorchNN/tweets/HillaryClinton_tweets.csv',\n '/Volumes/S200408/Coding/NumpyVKerasVPytorchNN/tweets/JoeBiden_tweets.csv']"
     },
     "metadata": {},
     "execution_count": 73
    }
   ],
   "source": [
    "names"
   ]
  },
  {
   "cell_type": "code",
   "execution_count": 74,
   "metadata": {},
   "outputs": [],
   "source": [
    "biden = pd.read_csv(names[-1])\n",
    "trump = pd.read_csv(names[1])\n",
    "pence = pd.read_csv(names[2])\n",
    "VP = pd.read_csv(names[3])\n",
    "hannity = pd.read_csv(names[4])\n",
    "obama = pd.read_csv(names[5])\n",
    "sanders = pd.read_csv(names[6])\n",
    "hillary = pd.read_csv(names[7])"
   ]
  },
  {
   "cell_type": "code",
   "execution_count": 75,
   "metadata": {},
   "outputs": [
    {
     "output_type": "stream",
     "name": "stdout",
     "text": "I am honored to have the endorsement of the League of Conservation Voters, a leading environmental advocacy organization. Climate change is an existential threat, and there is no greater challenge and opportunity facing our country and our world. https://t.co/puvpCUScSn\n"
    }
   ],
   "source": [
    "print(hillary['text'].iloc[0])"
   ]
  },
  {
   "cell_type": "code",
   "execution_count": 76,
   "metadata": {},
   "outputs": [],
   "source": [
    "biden_text = pd.DataFrame(biden['text'])\n",
    "trump_text = pd.DataFrame(trump['text'])\n",
    "pence_text = pd.DataFrame(pence['text'])\n",
    "VP_text =pd.DataFrame(VP['text'])\n",
    "hannity_text = pd.DataFrame(hannity['text'])\n",
    "obama_text = pd.DataFrame(obama['text'])\n",
    "sanders_text = pd.DataFrame(sanders['text'])\n",
    "hillary_text = pd.DataFrame(hillary['text'])"
   ]
  },
  {
   "cell_type": "code",
   "execution_count": 77,
   "metadata": {},
   "outputs": [],
   "source": [
    "biden_text['party'] = 'democrat'\n",
    "trump_text['party'] = 'republican'\n",
    "pence_text['party'] = 'republican'\n",
    "VP_text['party'] = 'republican'\n",
    "hannity_text['party'] = 'republican'\n",
    "obama_text['party'] = 'democrat'\n",
    "sanders_text['party'] = 'democrat'\n",
    "hillary_text['party'] = 'democrat'"
   ]
  },
  {
   "cell_type": "code",
   "execution_count": 78,
   "metadata": {},
   "outputs": [],
   "source": [
    "twitter_politics = pd.concat([biden_text, \n",
    "                              trump_text, \n",
    "                              pence_text,\n",
    "                              VP_text,\n",
    "                              hannity_text,\n",
    "                              obama_text,\n",
    "                              sanders_text,\n",
    "                              hillary_text\n",
    "                              ])"
   ]
  },
  {
   "cell_type": "code",
   "execution_count": 79,
   "metadata": {},
   "outputs": [],
   "source": [
    "from sklearn.utils import shuffle\n",
    "tw_politics_shuf = shuffle(twitter_politics)"
   ]
  },
  {
   "cell_type": "code",
   "execution_count": 102,
   "metadata": {},
   "outputs": [
    {
     "output_type": "execute_result",
     "data": {
      "text/plain": "25821"
     },
     "metadata": {},
     "execution_count": 102
    }
   ],
   "source": [
    "len(tw_politics_shuf['party'])"
   ]
  },
  {
   "cell_type": "code",
   "execution_count": 105,
   "metadata": {},
   "outputs": [
    {
     "output_type": "execute_result",
     "data": {
      "text/plain": "25821"
     },
     "metadata": {},
     "execution_count": 105
    }
   ],
   "source": [
    "t = []\n",
    "for tweet in tw_politics_shuf['text']:\n",
    "    t.append(tweet)\n",
    "len(t)"
   ]
  },
  {
   "cell_type": "code",
   "execution_count": 114,
   "metadata": {},
   "outputs": [],
   "source": [
    "with open('mp_tweet_label.txt', 'w') as f:\n",
    "    f.write(tw_politics_shuf['party'].to_string(header = False, index = False))\n",
    "with open('mp_tweet_text.txt', 'w') as f:\n",
    "    for tweet in t:\n",
    "        f.write(tweet)\n",
    ""
   ]
  },
  {
   "cell_type": "code",
   "execution_count": null,
   "metadata": {},
   "outputs": [],
   "source": [
    "with open('mp_tweet_text.txt', 'w') as f:\n",
    "    for tweet in tw_politics_shuf['text']:\n",
    "        f.write(tweet)"
   ]
  },
  {
   "cell_type": "code",
   "execution_count": 111,
   "metadata": {},
   "outputs": [
    {
     "output_type": "execute_result",
     "data": {
      "text/plain": "25821"
     },
     "metadata": {},
     "execution_count": 111
    }
   ],
   "source": [
    "len(tw_politics_shuf['text'])"
   ]
  },
  {
   "cell_type": "code",
   "execution_count": 115,
   "metadata": {},
   "outputs": [
    {
     "output_type": "execute_result",
     "data": {
      "text/plain": "11880"
     },
     "metadata": {},
     "execution_count": 115
    }
   ],
   "source": [
    "f = open('mp_tweet_text.txt', 'r')\n",
    "tf = []\n",
    "for i in f:\n",
    "    tf.append(i)\n",
    "len(tf)"
   ]
  },
  {
   "cell_type": "code",
   "execution_count": 117,
   "metadata": {},
   "outputs": [
    {
     "output_type": "execute_result",
     "data": {
      "text/plain": "25821"
     },
     "metadata": {},
     "execution_count": 117
    }
   ],
   "source": [
    "len(t)"
   ]
  },
  {
   "cell_type": "code",
   "execution_count": 92,
   "metadata": {},
   "outputs": [
    {
     "output_type": "execute_result",
     "data": {
      "text/plain": "3056    As we celebrate 242 years of freedom this week...\n2976                 Graham Slam 👇https://t.co/1qCWZ6gq6S\n117     At least 32 million nurses, caregivers, and fo...\n896     RT @votolatino: A third person has passed in C...\n2073    \"Don’t you think it’s finally time to guarante...\n                              ...                        \n496     RT @Mike_Pence: Honored to be at Holy City Chu...\n1775    .@DrBiden and I are sending our best wishes to...\n2956    One in five women will still be victims of rap...\n1532              Omar's big plan https://t.co/x3BtFY5s85\n2689    It's more than health insurance—it's peace of ...\nName: text, Length: 25821, dtype: object"
     },
     "metadata": {},
     "execution_count": 92
    }
   ],
   "source": [
    "tw_politics_shuf['text']"
   ]
  },
  {
   "cell_type": "code",
   "execution_count": 100,
   "metadata": {},
   "outputs": [],
   "source": [
    "with open('mp_tweet_text.txt', 'w') as f:\n",
    "    for tweet in tw_politics_shuf['text']:\n",
    "        f.write(tweet)"
   ]
  },
  {
   "cell_type": "code",
   "execution_count": 99,
   "metadata": {
    "tags": [
     "outputPrepend",
     "outputPrepend",
     "outputPrepend",
     "outputPrepend",
     "outputPrepend",
     "outputPrepend",
     "outputPrepend",
     "outputPrepend",
     "outputPrepend",
     "outputPrepend",
     "outputPrepend",
     "outputPrepend",
     "outputPrepend",
     "outputPrepend",
     "outputPrepend",
     "outputPrepend"
    ]
   },
   "outputs": [
    {
     "output_type": "stream",
     "name": "stdout",
     "text": "co/bouzgRLBU7\nRT @92Y: JUST ANNOUNCED: @HillaryClinton will read select Mary Oliver poems and say a few words about the beloved poet on Sept. 23! @marias…\nTonight at 8 p.m. ET, join us for a roundtable on the coronavirus crisis. I'll be joined by our campaign Health Policy Chair Rep. @PramilaJayapal and health professionals, featuring music by @SarahLeeGuthrie. Tune in at https://t.co/vreIiWfeoS. https://t.co/kWebnML16B\nCOLLINS SHREDS NADLER: “Those were all Chairman Nadler before he was chairman. I guess 20 years makes a difference...” https://t.co/Tm5mQ8coRY\nMy Dad used to say, \"don't tell me what you value. Show me your budget, and I'll tell you what you value.\" Your 2020 budget cuts Social Security and Medicaid while protecting giveaways to the wealthiest. You've shown us what you value. https://t.co/7gz2NWCUz8\nHave a worry-free weekend, and take care of this right now: https://t.co/BHUeP88GRc #GetCovered https://t.co/loHWJlPGNx\nGood luck to the @USWNT as they take on Chile! \n\nAs we cheer them on in the World Cup, we must support their fight off the field for equal pay. In 2019, it’s past time we close the pay gap and ensure women get paid as much as men. #OneNationOneTeam https://t.co/bJQZm2aQMv\nBIDEN BACKS OFF: Joe Admits ‘I Wasn’t Arrested, I Was Stopped’ During a Trip to South Africa https://t.co/oyWbMP2xEt\nCancer patients own their data, not hospitals. #CountMeIn empowers patients to contribute their data for research. To find cures.\n\nWe are changing the culture of cancer research — sharing data, breaking down silos, and forming new collaborations.  We can do this. https://t.co/EgLMFEMrhL\n.⁦@karaswisher⁩\nLastly Kara, I frankly hope you do sue me—you go for it!! Discovery and a counter suit by me vs you, Ben and that pathetic dying newspaper you work for could be a landmark case!! Game on.. https://t.co/A1K6gLKIRz\nThe president believes he is above the law. The president is wrong. https://t.co/WblIjvkwsl\nStand up for equal pay—add your name now: https://t.co/X3NldyL4LJ #EqualPayDay\nHere are a few stories that have less to do with the very real medical or economic aspects of this crisis, and more with how we take care of each other as a human family during all crises:\nIt takes courage to share your story. https://t.co/Q7wWjV9Rxx\nRT @WhiteHouse: \"In every action I take—from defending American energy, to securing American borders, to ending the endless wars—I am fight…\nPeople are mobilizing across the country today to #StopKavanaugh. Find an event near you: https://t.co/4ilvODIWAR\nIn the wake of darker moments in our history, our spirit has become mightier. The bonds that unite us have become thicker.\n \nSeventeen years after the 9/11 attacks, may we continue to live that legacy in our words and our deeds, every day. In America, we can overcome anything.\nKaren and I were deeply moved by Birkenau and Auschwitz. It was a scene of unspeakable tragedy, reminding us of what tyranny is capable of. #NeverAgain https://t.co/Ogp8eZEL5R\nOn June 6, 1944, they embarked on Operation Overlord, what Gen. Eisenhower called “the Great Crusade.” With “the eyes of the world” upon them, they sailed across the channel to the beaches of Normandy, carried aloft by the “hopes &amp; prayers of liberty-loving people everywhere.” https://t.co/9RYr1tTgxa\nWe are still a bit short of reaching the goal we've set for this monthly deadline. Can we count on you to add a contribution before our deadline comes to a close? https://t.co/Q53F2PzvGc\nPolitical Sparring as Wisconsin Gov Calls in National Guard For Tuesday’s Primary https://t.co/m7pHpnMJq9\nThe #USMCA protects 6.9 million workers in the technology industry by preventing foreign governments from forcing American companies to disclose proprietary digital information. A win for technology is a win for America!\nhttps://t.co/TxieC7SWQc\nRT @OFA: We’ve fought our way back from economic crisis. It’s time for Congress to build on that momentum. #SOTU\nRT @WhiteHouse: President @realDonaldTrump awarded six police officers from Dayton, Ohio, with the Medal of Valor and honored five American…\nENOUGH IS ENOUGH: NYPD Officers ‘Declare War’ on De Blasio After Weekend’s ‘Assassination Attempts’ https://t.co/1QcH7AOZQx\nFISA Condemns FBI in Russia Probe; Demands Reforms by January https://t.co/tGD6CeHVaw\nNobody here was “having fun” except for Trump. https://t.co/uklRuFJaus\nSiempre estuve orgulloso de servir junto al presidente Obama, pero nunca más que cuando aprobamos la Ley del Cuidado de Salud a Bajo Costo. Como presidente, protegeré y ampliaré Obamacare para garantizar que cada estadounidense reciba la atención médica que merece. https://t.co/a47rIpNP8P\nRT @VP: Two years ago today, President @realDonaldTrump signed into law the Tax Cuts and Jobs Act putting more money back in the pockets of…\nRT @WhiteHouse: Use the hashtag #AmericaWorksTogether to share your stories and celebrate extraordinary examples of patriotism and citizens…\nClimate change is a global problem. Here's another step towards solving it: http://t.co/4VapHLCqo4 #ActOnClimate\nRT @realDonaldTrump: THE BEST IS YET TO COME! https://t.co/YBMOBurdHQ\nLast year 91 corporations paid nothing in federal income taxes, including Amazon, GM and Delta.\n\nWhen politicians tell you we can't afford education, health care, childcare or clean water, they're lying.\n\nWe're going to make huge corporations pay their fair share.\nSide with cleaner air, not big polluters: http://t.co/iW8iKZgKSs\nRT @WhiteHouse: \"Today, I'm proud to declare that the United States is in the midst of an economic boom, the likes of which the world has n…\nRT @WhiteHouse: 263,000 more jobs, 3.6 percent unemployment—just a few of the top lines from April's outstanding jobs news.\n\nRead the repor…\nRT @The_RGA: Just ONE DAY left until Kentuckians head to the polls to reelect Governor @MattBevin! #KYGov #GOTV https://t.co/MvfBsI7GFS\n👀WATCH: @realDonaldTrump met with thunderous cheers at football championship game https://t.co/VVU49xIlqA\nBut our job is not done. The #VotingRightsAct has been gutted by the Supreme Court &amp; voting rights are under siege across the country.\n\nAs president, I will restore the VRA, stand up to attacks on the right to vote, &amp; renew our efforts to ensure every American’s voice is equal.\nBack in the '90s, Democrats and Republicans worked together to pass CHIP. Today, it covers 9 million kids. 2/7\nDonald Trump has no idea what it means to be a part of the middle class. I do. https://t.co/ewJ1ZKymG6\n.@ColorOfChange and @DomesticWorkers have spent the last two years waging campaigns to defend civil rights against the administration's attacks and building powerful communities for change.\nRT @NationalNurses: Union nurses are proud to announce that this Friday, we plan to officially endorse @BernieSanders in the Democratic Par…\nToday's New Hampshire primary is incredibly important. Please help make calls to voters at https://t.co/QMWpC9NZ0V or check your polling place at https://t.co/t1SHvpMgMy. Join us live now: https://t.co/LgvM4Zr3Cg\nNotes are ready. Be sure to tune in at 3pm ET when I will sit down at @UDBidenSchool with author and historian @jmeacham to talk about his book “The Soul of America” and the state of our democracy today. https://t.co/3F6qAEE3qA https://t.co/irisDJmDLu\nRT @WhiteHouse: Today in Minnesota and Washington state, Vice President @Mike_Pence and members of the Coronavirus Task Force met with team…\nIn honor of the life, the character, and the service of the Commander of Apollo 11: Neil Armstrong, we unveiled his space suit for the first time in 13 years. God Bless the memory and legacy of an incredible American astronaut! #Apollo50th https://t.co/zeyGY3Ttnr\n.@RealDonaldTrump &amp; I stand with @Troy_Balderson for #OH12. Get out and support Troy Balderson for U.S. Congress!\nI’m about to take the stage in Sumter, South Carolina. Watch live! https://t.co/Rd1EKSjxUO\nRT @KarenPence: HAPPENING NOW: Hello, New Hampshire! https://t.co/gEzBku6ZEz\nEveryone at @YellowstoneNPS gives countless families the opportunity to enjoy Creation in all its natural glory—&amp; it was an honor to experience Old Faithful with @SecondLady!\n \nVisit Yellowstone National Park today: https://t.co/AvIQTkieaQ https://t.co/X4JVAYpc85\nRT @SecondLady: Remembering the ‘Mike Pence Show’ from the Indy 500 Track. Looking forward to watching the Greatest Spectacle in Racing! Be…\nWe're told we can't afford to invest in the housing, health care and education our people need.\n\nMeanwhile, giant corporations are paying ZERO in federal income taxes.\n\nWhen we stand up to the corporate elite, we can make real change for our country. https://t.co/Qj5QqBNX4e\nOf the states voting today, these states have same-day voter registration:\n\n✅California\n✅Colorado\n✅Maine\n✅Minnesota\n✅Utah\n✅Vermont\n\nIf you’re not registered already you can register at the polls. Find your polling place below. #VoteForBernie. https://t.co/B9bZqdadU1\nAOC: Senate’s Coronavirus Stimulus Package is ‘Historic Corporate Giveaway’ https://t.co/UEodRWIPR1\nRT @FEMA_Pete: With the help of our partners, the federal government is using every resource to acquire &amp; distribute medical needs. Here is…\nRT @Mike_Pence: Because of the cooperation of the American people and God’s grace, we are slowing the spread, we are flattening the curve,…\nSANDERS ON HANNITY: Media Mob ‘Wakes Up Every Morning’ With the Goal of Destroying President Trump https://t.co/kvSE6ymxvR\nLooking forward to talking with @StephenAtHome about what’s at stake in this election and why I’m running for president.\n \nTune in to the @colbertlateshow tonight! https://t.co/9gJ4KPSLeL\nRT @SecondLady: One of the great joys of the holidays is hosting kids, friends from around the country, and members of the Armed Forces, Se…\nRead President Obama's latest message to @OFA supporters about fighting alongside him in 2015: http://t.co/etpJ9hKCXl\nNEWSOM: \"Every single thing he said, they followed through on… Every single thing... and it starts at the top...\" https://t.co/JJrt1Gw76A\nWith just 9 days until Election Day, Hillary is campaigning in Florida. Tune in to watch her live: https://t.co/dkg7pwiNMt\nRT @Mike_Pence: Led a productive meeting with nearly 50 of our Nation’s Governors &amp; the White House Coronavirus Taskforce today. We’re grat…\nThere is a day in November when we remember who served &amp; came home – but today is the day when, all across America, in gatherings large and small, we pause to honor and remember those who served our nation and did not come home. It is Memorial Day in America. #MemorialDay https://t.co/VmHhSeDsFC\nRT @WhiteHouse: President @realDonaldTrump: \"We're enduring a great national trial, and we will prove that we can meet the moment ... No Am…\nLIVE: President Obama is in Utah talking about training American workers for clean energy jobs. http://t.co/tVLVPOQw7v #ActOnClimate\nRT @TeamTrump: \"There’s nowhere I’d rather celebrate this Thanksgiving than right here with the toughest, strongest, best and bravest warri…\nRead about the hurricane preparedness briefing the President is receiving in Miami today: http://t.co/NfRkw4p8l7 #ActOnClimate\nThis year has seen record-high temperatures across the world, the biggest wildfire in California history, and an unprecedented red tide in Florida. \n\nIt's urgent that we act to curb climate change—and Brett Kavanaugh on the Supreme Court could make progress virtually impossible.\nThe American people deserve to know what the most corrupt president in modern history is hiding in his tax returns. https://t.co/QMMT8FEs3E\nRT @DHSgov: Illegal &amp; irregular immigration is down for the third month thanks to @POTUS efforts to end the humanitarian crisis at the bord…\nRT @cceanv: We are looking forward to working with @BernieSanders to help change the public education system for the better 🍎 https://t.co/…\nBREAKING: Trump Administration to Close US-Canada Border to All ‘Non-Essential’ Traffic https://t.co/m8x9YNzqXo\nRT @AOC: Bernie’s strong record on trade, his exemplary performance with Latino voters, and his overwhelming support among folks making &lt;$4…\nRT @fema: As you plan for Hurricane #Dorian, consider the specific medical needs of all members of your household. Planning ahead can save…\nHey everyone — @TeamJoe here! We’re taking over for tonight’s CNN #ClimateTownHall. We’ll keep you updated as Joe Biden takes the stage to discuss his plans to combat climate change.\nGovernor Cuomo did NOT listen. He bought ZERO. It would have been only 0.4 % of the yearly budget. Instead he wasted HUNDREDS OF MILLIONS. https://t.co/IMhQLRbOws\nIf we do not allow Trump and his friends to divide us by the color of our skin, where we were born, our sexual orientation or our religion—if we stand together, there is nothing that we cannot accomplish in the fight for racial, economic, social and environmental justice.\nWe need a huge number of people making calls to voters ahead of Super Tuesday on March 3. Will you get on the phone lines today and help make sure we win? https://t.co/YcvS3sejCJ\nEvery single human being deserves to be treated with dignity. Everyone. The poor and the powerless, the marginalized and vulnerable, the “least of these.” That has been the animating principle of my life and my faith. https://t.co/BwmOVQjxVk\nYesterday, Trump tried to attack me at his campaign rally by saying I abandoned Pennsylvania.\n\nI’ve never forgotten where I came from. My family did have to leave Pennsylvania when I was 10 — we moved to Delaware where my Dad found a job that could provide for our family.\nI just stepped off the #DemDebate stage, where I laid out my bold vision for the country and how I’ll deliver real progress for working families.\n\nIf you liked what you heard tonight, help us keep our momentum going by pitching in: https://t.co/s5nd6p8r7o\nEn el 1994, el senador Feinstein y yo dirigimos la lucha para prohibir las armas de fuego para asalto y las revistas de alta capacidad. Luchamos contra el @NRA y los vencimos.\n\nComo presidente, volveré a prohibir estas armas de guerra. Las sacaremos de nuestras calles.\nA little girl power in Pasadena...\nhttps://t.co/nqNAMl16yS https://t.co/jdWhdXHL4Y\nRT @realDonaldTrump: To unleash the full power of the Federal Government in this effort, today I am officially declaring a National Emergen…\nMet with reporters at the Capitol &amp; made clear that it’s time for Democrats to step up and start negotiating. We’ve been working in good faith over the last three weeks to resolve this government shutdown &amp; address what is an undeniable crisis at our southern border. Walls work! https://t.co/utYYYW5JND\nRT @Leahgreenb: Today thousands are gathering in DC to protect DACA at the U.S. Supreme Court. DACA recipients, their families, &amp; immigrant…\nStand with survivors and advocates like @nguyen_amanda, @ZerlinaMaxwell, @ruthmglenn, @DavidsonJess22, @Mariska, and so many others. Reauthorize VAWA now.\nAmerica’s farmers have had enough of your empty promises, Mr. President. https://t.co/nsOyktOqkR https://t.co/9NSJj7pRjY\nRT @shankerinst: Sen. @RonWyden: Republicans shutter polling places in communities of color, shorten polling hours, make registration diffi…\nTonight is the third Democratic debate and there are hundreds of Bernie 2020 watch parties happening across the country. Find one year you: https://t.co/0gzurtl5gF\nNASA leads the world in the exploration and study of planets. Let's not let climate change deniers change that: http://t.co/dcUlvdFaha\nYes, Trump and Pence are running an insult-driven campaign.\n\nDonald's literally doing it right now. #VPDebate\nhttps://t.co/VZeBQ85nyH\nThis virus can hit anyone — regardless of race, economic status, or access to power — but it doesn’t impact every community equally. It hits hardest those who are most vulnerable and who have the fewest resources.\n\nWe have to do better for all our people. https://t.co/fx76CcIPdU\nWatch Live 👇 https://t.co/3B2OmkHZ8g\nThese senators are at odds with 97% of climate scientists and NASA. #ActOnClimate http://t.co/zYUuwl7AFb\nWho are you fighting for? Donate in their honor to help Hillary win: https://t.co/ax9b67Skrr\nThe deadline is here. Go #GetCoveredNow: http://t.co/xTRj74V0N6 http://t.co/ykQVuz3NC8\n@NRA The fight ahead of us is about more than just having plans. It’s about repairing our soul—and it will take someone with the proven ability to bring people together.\n\nI've done it before—and at tonight's #DemDebate, I'm going to show you why I'm the best candidate to do it again.\n💥 House GOP Releases 123 Page Report, Destroying Dems’ Impeachment Fantasy https://t.co/7U7coBP5MC\nAs communities have begun to recognize the importance of social distancing measures to “flatten the curve” on COVID-19 transmission, here’s a sober but useful primer on what we should expect in the coming months: https://t.co/9oqdRF5J0Q\nNevada just became the first state in the country to have a legislature that's majority women. Let's make it the first of many. \nhttps://t.co/4yYjuZtBMc\nRT @realDonaldTrump: 2019 National Prayer Breakfast https://t.co/cKvv3ygOOt\nOn the one year anniversary of the Parkland Tragedy, we remember &amp; honor the victims &amp; their loved ones. The safety of America’s children remains a top priority for @POTUS &amp; our Admin, and as @POTUS said, we will not rest until our schools are secure &amp; our communities are safe.\nDonald Trump was not against the war in Iraq. #debate https://t.co/bXwhbDrVoc\nUh Oh: New Poll Shows Dem’s Impeachment Hopes are Doomed https://t.co/wp11YZ8iR8 https://t.co/YjqFqf1bAy\nAnother school year is starting. Another month of Senate Republicans’ inaction on gun violence. This powerful ad from my friends @sandyhook captures the physical and emotional consequences of that inaction. https://t.co/16jaVm4QNG\nIn the wake of rising anti-semitism and hate crimes, we stand united to wipe out all forms of racism, discrimination and bigotry. https://t.co/TdZ8lJl3Nt\nThe struggle in Venezuela is between dictatorship and democracy, and freedom has the momentum. Nicolas Maduro is a dictator with no legitimate claim to power, and Nicolas Maduro must go! https://t.co/GaLwgUa6T6\nRT @Mike_Pence: Spent #NationalPancakeDay with some wonderful Michiganders at Fleetwood Diner! Thanks for the warm welcome, our Administrat…\nGet out and vote @tmac4congress! Tom MacArthur is a proven leader who puts RESULTS before partisanship. He’s the fighter #NJ03 needs in Congress!\nRT @ColorOfChange: It's been 5 years since the start of the water crisis and Flint still does NOT have CLEAN WATER. COC members and support…\nWe have to make a choice. What kind of nation do we want to be?\n\nDo we want to work together to tackle the problems facing this country, or be one where nothing fundamentally changes for the people with power who make huge amounts of money on greed and corruption?\nRT @algore: The choice in this election is whether we will solve the climate crisis in time or whether the United States will move backward…\nObamacare was, and is, a big deal. It covered 20 million additional Americans, protects over 100 million with pre-existing conditions, and has saved lives.\n\nWe can’t afford to tear it down and start over. As president, I will protect and build on it. https://t.co/Wm7cm9sMEi\nRT @Mike_Pence: Honored to be at Holy City Church of God in Christ today to celebrate the life of Dr. Martin Luther King Jr. https://t.co/4…\n.@DrBiden and I are sending our best wishes to @BernieSanders, Jane, and the whole Sanders family. Anyone who knows Bernie understands what a force he is. We are confident that he will have a full and speedy recovery and look forward to seeing him on the trail soon.\nOne in five women will still be victims of rape or attempted rape in their lifetimes. On average, three women a day are murdered by their husbands or boyfriends. Nothing is more urgent than reauthorizing and expanding the law that makes women safer.\nOmar's big plan https://t.co/x3BtFY5s85\nIt's more than health insurance—it's peace of mind. http://t.co/nBIJv0evNk\n"
    }
   ],
   "source": [
    "for i in tw_politics_shuf['text']:\n",
    "    print(i)"
   ]
  },
  {
   "cell_type": "code",
   "execution_count": 118,
   "metadata": {},
   "outputs": [],
   "source": [
    "tw_politics_shuf['text'].to_csv('mp_tweet_text.csv')\n",
    "tw_politics_shuf['party'].to_csv('mp_tweet_label.csv')"
   ]
  },
  {
   "cell_type": "code",
   "execution_count": 120,
   "metadata": {},
   "outputs": [],
   "source": [
    "tw_politics_shuf.to_csv('twitter_data.csv')"
   ]
  },
  {
   "cell_type": "code",
   "execution_count": null,
   "metadata": {},
   "outputs": [],
   "source": []
  }
 ]
}