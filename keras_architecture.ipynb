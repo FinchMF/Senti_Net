{
 "nbformat": 4,
 "nbformat_minor": 2,
 "metadata": {
  "language_info": {
   "name": "python",
   "codemirror_mode": {
    "name": "ipython",
    "version": 3
   },
   "version": "3.7.3-final"
  },
  "orig_nbformat": 2,
  "file_extension": ".py",
  "mimetype": "text/x-python",
  "name": "python",
  "npconvert_exporter": "python",
  "pygments_lexer": "ipython3",
  "version": 3,
  "kernelspec": {
   "name": "python37364bitanaconda3virtualenve0beec8455a449faa64632dc843014f3",
   "display_name": "Python 3.7.3 64-bit ('anaconda3': virtualenv)"
  }
 },
 "cells": [
  {
   "cell_type": "markdown",
   "metadata": {},
   "source": [
    "## Keras and a Toy Dataset\n",
    "(IMDB movie reviews)"
   ]
  },
  {
   "cell_type": "code",
   "execution_count": 1,
   "metadata": {},
   "outputs": [
    {
     "output_type": "stream",
     "name": "stderr",
     "text": "Using TensorFlow backend.\n"
    }
   ],
   "source": [
    "# dependencies\n",
    "import numpy as np\n",
    "import keras\n",
    "from keras.datasets import imdb\n",
    "from keras.models import Sequential\n",
    "from keras.layers import Dense, Dropout, Activation\n",
    "from keras.preprocessing.text import Tokenizer\n",
    "import matplotlib.pyplot as plt\n",
    "%matplotlib inline\n",
    "\n",
    "np.random.seed(42)"
   ]
  },
  {
   "cell_type": "code",
   "execution_count": 6,
   "metadata": {},
   "outputs": [],
   "source": [
    "# preloaded from keras\n",
    "(x_train, y_train), (x_test, y_test) = imdb.load_data(num_words=1000)"
   ]
  },
  {
   "cell_type": "code",
   "execution_count": 3,
   "metadata": {},
   "outputs": [
    {
     "output_type": "stream",
     "name": "stdout",
     "text": "(25000,)\n(25000,)\n[1, 14, 22, 16, 43, 530, 973, 2, 2, 65, 458, 2, 66, 2, 4, 173, 36, 256, 5, 25, 100, 43, 838, 112, 50, 670, 2, 9, 35, 480, 284, 5, 150, 4, 172, 112, 167, 2, 336, 385, 39, 4, 172, 2, 2, 17, 546, 38, 13, 447, 4, 192, 50, 16, 6, 147, 2, 19, 14, 22, 4, 2, 2, 469, 4, 22, 71, 87, 12, 16, 43, 530, 38, 76, 15, 13, 2, 4, 22, 17, 515, 17, 12, 16, 626, 18, 2, 5, 62, 386, 12, 8, 316, 8, 106, 5, 4, 2, 2, 16, 480, 66, 2, 33, 4, 130, 12, 16, 38, 619, 5, 25, 124, 51, 36, 135, 48, 25, 2, 33, 6, 22, 12, 215, 28, 77, 52, 5, 14, 407, 16, 82, 2, 8, 4, 107, 117, 2, 15, 256, 4, 2, 7, 2, 5, 723, 36, 71, 43, 530, 476, 26, 400, 317, 46, 7, 4, 2, 2, 13, 104, 88, 4, 381, 15, 297, 98, 32, 2, 56, 26, 141, 6, 194, 2, 18, 4, 226, 22, 21, 134, 476, 26, 480, 5, 144, 30, 2, 18, 51, 36, 28, 224, 92, 25, 104, 4, 226, 65, 16, 38, 2, 88, 12, 16, 283, 5, 16, 2, 113, 103, 32, 15, 16, 2, 19, 178, 32]\n1\n"
    }
   ],
   "source": [
    "# keras has already preprocessed the data\n",
    "print(x_train.shape)\n",
    "print(x_test.shape)\n",
    "print(x_train[0])\n",
    "print(y_train[0]"
   ]
  },
  {
   "cell_type": "code",
   "execution_count": 4,
   "metadata": {},
   "outputs": [],
   "source": [
    "# one hot encoding into vector mode\n",
    "tokenizer = Tokenizer(num_words=1000)\n",
    "x_train = tokenizer.sequences_to_matrix(x_train, mode='binary')\n",
    "x_test = tokenizer.sequences_to_matrix(x_test, mode='binary')"
   ]
  },
  {
   "cell_type": "code",
   "execution_count": 5,
   "metadata": {},
   "outputs": [
    {
     "output_type": "stream",
     "name": "stdout",
     "text": "(25000, 2)\n(25000, 2)\n"
    }
   ],
   "source": [
    "# one hot encoding the output into two classes. We'll be making a classification model that analyzes and predicts sentiment\n",
    "num_classes = 2\n",
    "y_train = keras.utils.to_categorical(y_train, num_classes)\n",
    "y_test = keras.utils.to_categorical(y_test, num_classes)\n",
    "print(y_train.shape)\n",
    "print(y_test.shape)"
   ]
  },
  {
   "cell_type": "code",
   "execution_count": 14,
   "metadata": {},
   "outputs": [
    {
     "output_type": "stream",
     "name": "stdout",
     "text": "Epoch 1/60\n25000/25000 [==============================] - 13s 532us/step - loss: 0.4864 - accuracy: 0.7876\nEpoch 2/60\n25000/25000 [==============================] - 13s 515us/step - loss: 0.3281 - accuracy: 0.8640\nEpoch 3/60\n25000/25000 [==============================] - 13s 516us/step - loss: 0.3086 - accuracy: 0.8708\nEpoch 4/60\n25000/25000 [==============================] - 14s 541us/step - loss: 0.3027 - accuracy: 0.8710\nEpoch 5/60\n25000/25000 [==============================] - 13s 523us/step - loss: 0.2935 - accuracy: 0.8733\nEpoch 6/60\n25000/25000 [==============================] - 13s 522us/step - loss: 0.2877 - accuracy: 0.8770\nEpoch 7/60\n25000/25000 [==============================] - 15s 581us/step - loss: 0.2790 - accuracy: 0.8776\nEpoch 8/60\n25000/25000 [==============================] - 13s 526us/step - loss: 0.2726 - accuracy: 0.8807\nEpoch 9/60\n25000/25000 [==============================] - 13s 525us/step - loss: 0.2686 - accuracy: 0.8815\nEpoch 10/60\n25000/25000 [==============================] - 13s 529us/step - loss: 0.2599 - accuracy: 0.8845\nEpoch 11/60\n25000/25000 [==============================] - 13s 528us/step - loss: 0.2530 - accuracy: 0.8890\nEpoch 12/60\n25000/25000 [==============================] - 13s 532us/step - loss: 0.2453 - accuracy: 0.8929\nEpoch 13/60\n25000/25000 [==============================] - 13s 531us/step - loss: 0.2343 - accuracy: 0.8958\nEpoch 14/60\n25000/25000 [==============================] - 13s 528us/step - loss: 0.2283 - accuracy: 0.8993\nEpoch 15/60\n25000/25000 [==============================] - 13s 529us/step - loss: 0.2207 - accuracy: 0.9048\nEpoch 16/60\n25000/25000 [==============================] - 13s 529us/step - loss: 0.2114 - accuracy: 0.9074\nEpoch 17/60\n25000/25000 [==============================] - 13s 539us/step - loss: 0.2035 - accuracy: 0.9114\nEpoch 18/60\n25000/25000 [==============================] - 14s 574us/step - loss: 0.1955 - accuracy: 0.9165\nEpoch 19/60\n25000/25000 [==============================] - 14s 568us/step - loss: 0.1878 - accuracy: 0.9223\nEpoch 20/60\n25000/25000 [==============================] - 14s 566us/step - loss: 0.1781 - accuracy: 0.9279\nEpoch 21/60\n25000/25000 [==============================] - 14s 553us/step - loss: 0.1675 - accuracy: 0.9334\nEpoch 22/60\n25000/25000 [==============================] - 14s 549us/step - loss: 0.1575 - accuracy: 0.9394\nEpoch 23/60\n25000/25000 [==============================] - 14s 568us/step - loss: 0.1481 - accuracy: 0.9460\nEpoch 24/60\n25000/25000 [==============================] - 14s 562us/step - loss: 0.1384 - accuracy: 0.9541\nEpoch 25/60\n25000/25000 [==============================] - 14s 557us/step - loss: 0.1296 - accuracy: 0.9570\nEpoch 26/60\n25000/25000 [==============================] - 14s 564us/step - loss: 0.1187 - accuracy: 0.9635\nEpoch 27/60\n25000/25000 [==============================] - 14s 559us/step - loss: 0.1087 - accuracy: 0.9692\nEpoch 28/60\n25000/25000 [==============================] - 14s 555us/step - loss: 0.0972 - accuracy: 0.9725\nEpoch 29/60\n25000/25000 [==============================] - 14s 555us/step - loss: 0.0907 - accuracy: 0.9737\nEpoch 30/60\n25000/25000 [==============================] - 14s 546us/step - loss: 0.0812 - accuracy: 0.9771\nEpoch 31/60\n25000/25000 [==============================] - 14s 543us/step - loss: 0.0742 - accuracy: 0.9800\nEpoch 32/60\n25000/25000 [==============================] - 14s 540us/step - loss: 0.0674 - accuracy: 0.9822\nEpoch 33/60\n25000/25000 [==============================] - 14s 548us/step - loss: 0.0607 - accuracy: 0.9846\nEpoch 34/60\n25000/25000 [==============================] - 14s 550us/step - loss: 0.0546 - accuracy: 0.9870\nEpoch 35/60\n25000/25000 [==============================] - 14s 558us/step - loss: 0.0509 - accuracy: 0.9876\nEpoch 36/60\n25000/25000 [==============================] - 14s 563us/step - loss: 0.0438 - accuracy: 0.9908\nEpoch 37/60\n25000/25000 [==============================] - 14s 563us/step - loss: 0.0391 - accuracy: 0.9922\nEpoch 38/60\n25000/25000 [==============================] - 14s 572us/step - loss: 0.0362 - accuracy: 0.9920\nEpoch 39/60\n25000/25000 [==============================] - 14s 567us/step - loss: 0.0323 - accuracy: 0.9932\nEpoch 40/60\n25000/25000 [==============================] - 14s 566us/step - loss: 0.0287 - accuracy: 0.9940\nEpoch 41/60\n25000/25000 [==============================] - 14s 560us/step - loss: 0.0267 - accuracy: 0.9949\nEpoch 42/60\n25000/25000 [==============================] - 14s 559us/step - loss: 0.0272 - accuracy: 0.9942\nEpoch 43/60\n25000/25000 [==============================] - 14s 558us/step - loss: 0.0313 - accuracy: 0.9926\nEpoch 44/60\n25000/25000 [==============================] - 14s 556us/step - loss: 0.0292 - accuracy: 0.9929\nEpoch 45/60\n25000/25000 [==============================] - 14s 548us/step - loss: 0.0227 - accuracy: 0.9949\nEpoch 46/60\n25000/25000 [==============================] - 14s 550us/step - loss: 0.0172 - accuracy: 0.9963\nEpoch 47/60\n25000/25000 [==============================] - 14s 543us/step - loss: 0.0147 - accuracy: 0.9966\nEpoch 48/60\n25000/25000 [==============================] - 14s 549us/step - loss: 0.0132 - accuracy: 0.9967\nEpoch 49/60\n25000/25000 [==============================] - 14s 546us/step - loss: 0.0119 - accuracy: 0.9973\nEpoch 50/60\n25000/25000 [==============================] - 14s 575us/step - loss: 0.0102 - accuracy: 0.9978\nEpoch 51/60\n25000/25000 [==============================] - 14s 552us/step - loss: 0.0100 - accuracy: 0.9980\nEpoch 52/60\n25000/25000 [==============================] - 14s 555us/step - loss: 0.0101 - accuracy: 0.9978\nEpoch 53/60\n25000/25000 [==============================] - 14s 558us/step - loss: 0.0106 - accuracy: 0.9975\nEpoch 54/60\n25000/25000 [==============================] - 14s 563us/step - loss: 0.0103 - accuracy: 0.9977\nEpoch 55/60\n25000/25000 [==============================] - 14s 557us/step - loss: 0.0095 - accuracy: 0.9975\nEpoch 56/60\n25000/25000 [==============================] - 15s 608us/step - loss: 0.0067 - accuracy: 0.9986\nEpoch 57/60\n25000/25000 [==============================] - 14s 561us/step - loss: 0.0061 - accuracy: 0.9987\nEpoch 58/60\n25000/25000 [==============================] - 14s 552us/step - loss: 0.0067 - accuracy: 0.9982\nEpoch 59/60\n25000/25000 [==============================] - 14s 552us/step - loss: 0.0095 - accuracy: 0.9974\nEpoch 60/60\n25000/25000 [==============================] - 14s 558us/step - loss: 0.0077 - accuracy: 0.9975\nAccuracy:  0.8438799977302551\n"
    }
   ],
   "source": [
    "# and now we're ready to build and train a model\n",
    "model = Sequential()\n",
    "model.add(Dense(2500, input_shape=(x_train.shape[1],)))\n",
    "model.add(Activation('sigmoid'))\n",
    "model.add(Dense(32))\n",
    "model.add(Activation('sigmoid'))\n",
    "model.add(Dropout(.022))\n",
    "model.add(Dense(2))\n",
    "model.add(Activation('sigmoid'))\n",
    "\n",
    "model.compile(loss='categorical_crossentropy',\n",
    "             optimizer='adam',\n",
    "             metrics=['accuracy'])\n",
    "history = model.fit(x_train,\n",
    "                    y_train,\n",
    "                   epochs=60,\n",
    "                   batch_size=150)\n",
    "score = model.evaluate(x_test, y_test, verbose=0)\n",
    "print(\"Accuracy: \", score[1])"
   ]
  },
  {
   "cell_type": "markdown",
   "metadata": {},
   "source": [
    "Not a bad score, but lets play with more advance settings. Spice up the activations and build out a more complex struture."
   ]
  },
  {
   "cell_type": "code",
   "execution_count": 18,
   "metadata": {},
   "outputs": [
    {
     "output_type": "stream",
     "name": "stdout",
     "text": "Epoch 1/60\n25000/25000 [==============================] - 2s 68us/step - loss: 0.6281 - accuracy: 0.6568\nEpoch 2/60\n25000/25000 [==============================] - 1s 40us/step - loss: 0.5186 - accuracy: 0.7670\nEpoch 3/60\n25000/25000 [==============================] - 1s 39us/step - loss: 0.4774 - accuracy: 0.7835\nEpoch 4/60\n25000/25000 [==============================] - 1s 40us/step - loss: 0.4518 - accuracy: 0.7870\nEpoch 5/60\n25000/25000 [==============================] - 1s 40us/step - loss: 0.4236 - accuracy: 0.7920\nEpoch 6/60\n25000/25000 [==============================] - 1s 39us/step - loss: 0.4081 - accuracy: 0.8004\nEpoch 7/60\n25000/25000 [==============================] - 1s 40us/step - loss: 0.3928 - accuracy: 0.8388\nEpoch 8/60\n25000/25000 [==============================] - 1s 41us/step - loss: 0.3827 - accuracy: 0.8539\nEpoch 9/60\n25000/25000 [==============================] - 1s 43us/step - loss: 0.3716 - accuracy: 0.8637\nEpoch 10/60\n25000/25000 [==============================] - 1s 40us/step - loss: 0.3608 - accuracy: 0.8660\nEpoch 11/60\n25000/25000 [==============================] - 1s 41us/step - loss: 0.3498 - accuracy: 0.8697\nEpoch 12/60\n25000/25000 [==============================] - 1s 42us/step - loss: 0.3424 - accuracy: 0.8694\nEpoch 13/60\n25000/25000 [==============================] - 1s 42us/step - loss: 0.3374 - accuracy: 0.8723\nEpoch 14/60\n25000/25000 [==============================] - 1s 44us/step - loss: 0.3302 - accuracy: 0.8729\nEpoch 15/60\n25000/25000 [==============================] - 1s 42us/step - loss: 0.3202 - accuracy: 0.8759\nEpoch 16/60\n25000/25000 [==============================] - 1s 46us/step - loss: 0.3158 - accuracy: 0.8785\nEpoch 17/60\n25000/25000 [==============================] - 1s 47us/step - loss: 0.3058 - accuracy: 0.8823\nEpoch 18/60\n25000/25000 [==============================] - 1s 52us/step - loss: 0.3047 - accuracy: 0.8860\nEpoch 19/60\n25000/25000 [==============================] - 1s 45us/step - loss: 0.2949 - accuracy: 0.8895\nEpoch 20/60\n25000/25000 [==============================] - 1s 42us/step - loss: 0.2871 - accuracy: 0.8961\nEpoch 21/60\n25000/25000 [==============================] - 1s 43us/step - loss: 0.2820 - accuracy: 0.8979\nEpoch 22/60\n25000/25000 [==============================] - 1s 51us/step - loss: 0.2849 - accuracy: 0.8961\nEpoch 23/60\n25000/25000 [==============================] - 1s 45us/step - loss: 0.2741 - accuracy: 0.9030\nEpoch 24/60\n25000/25000 [==============================] - 1s 50us/step - loss: 0.2698 - accuracy: 0.9037\nEpoch 25/60\n25000/25000 [==============================] - 1s 57us/step - loss: 0.2674 - accuracy: 0.9054\nEpoch 26/60\n25000/25000 [==============================] - 1s 60us/step - loss: 0.2687 - accuracy: 0.9045\nEpoch 27/60\n25000/25000 [==============================] - 1s 53us/step - loss: 0.2659 - accuracy: 0.9043\nEpoch 28/60\n25000/25000 [==============================] - 1s 47us/step - loss: 0.2596 - accuracy: 0.9067\nEpoch 29/60\n25000/25000 [==============================] - 1s 48us/step - loss: 0.2536 - accuracy: 0.9116\nEpoch 30/60\n25000/25000 [==============================] - 1s 48us/step - loss: 0.2572 - accuracy: 0.9088\nEpoch 31/60\n25000/25000 [==============================] - 1s 43us/step - loss: 0.2513 - accuracy: 0.9111\nEpoch 32/60\n25000/25000 [==============================] - 1s 56us/step - loss: 0.2474 - accuracy: 0.9136\nEpoch 33/60\n25000/25000 [==============================] - 1s 54us/step - loss: 0.2433 - accuracy: 0.9159\nEpoch 34/60\n25000/25000 [==============================] - 1s 47us/step - loss: 0.2398 - accuracy: 0.9166\nEpoch 35/60\n25000/25000 [==============================] - 1s 47us/step - loss: 0.2402 - accuracy: 0.9155\nEpoch 36/60\n25000/25000 [==============================] - 1s 49us/step - loss: 0.2411 - accuracy: 0.9168\nEpoch 37/60\n25000/25000 [==============================] - 1s 54us/step - loss: 0.2418 - accuracy: 0.9161\nEpoch 38/60\n25000/25000 [==============================] - 1s 46us/step - loss: 0.2355 - accuracy: 0.9197\nEpoch 39/60\n25000/25000 [==============================] - 1s 51us/step - loss: 0.2348 - accuracy: 0.9180\nEpoch 40/60\n25000/25000 [==============================] - 1s 38us/step - loss: 0.2312 - accuracy: 0.9200\nEpoch 41/60\n25000/25000 [==============================] - 1s 38us/step - loss: 0.2328 - accuracy: 0.9201\nEpoch 42/60\n25000/25000 [==============================] - 1s 37us/step - loss: 0.2271 - accuracy: 0.9226\nEpoch 43/60\n25000/25000 [==============================] - 1s 39us/step - loss: 0.2266 - accuracy: 0.9204\nEpoch 44/60\n25000/25000 [==============================] - 1s 37us/step - loss: 0.2246 - accuracy: 0.9230\nEpoch 45/60\n25000/25000 [==============================] - 1s 37us/step - loss: 0.2266 - accuracy: 0.9214\nEpoch 46/60\n25000/25000 [==============================] - 1s 42us/step - loss: 0.2179 - accuracy: 0.9245\nEpoch 47/60\n25000/25000 [==============================] - 1s 44us/step - loss: 0.2189 - accuracy: 0.9256\nEpoch 48/60\n25000/25000 [==============================] - 1s 42us/step - loss: 0.2190 - accuracy: 0.9266\nEpoch 49/60\n25000/25000 [==============================] - 1s 45us/step - loss: 0.2185 - accuracy: 0.9246\nEpoch 50/60\n25000/25000 [==============================] - 1s 43us/step - loss: 0.2243 - accuracy: 0.9233\nEpoch 51/60\n25000/25000 [==============================] - 1s 41us/step - loss: 0.2176 - accuracy: 0.9254\nEpoch 52/60\n25000/25000 [==============================] - 1s 48us/step - loss: 0.2144 - accuracy: 0.9263\nEpoch 53/60\n25000/25000 [==============================] - 1s 39us/step - loss: 0.2095 - accuracy: 0.9276\nEpoch 54/60\n25000/25000 [==============================] - 1s 41us/step - loss: 0.2105 - accuracy: 0.9284\nEpoch 55/60\n25000/25000 [==============================] - 1s 50us/step - loss: 0.2060 - accuracy: 0.9301\nEpoch 56/60\n25000/25000 [==============================] - 1s 41us/step - loss: 0.2097 - accuracy: 0.9285\nEpoch 57/60\n25000/25000 [==============================] - 1s 39us/step - loss: 0.2103 - accuracy: 0.9292\nEpoch 58/60\n25000/25000 [==============================] - 1s 38us/step - loss: 0.2104 - accuracy: 0.9272\nEpoch 59/60\n25000/25000 [==============================] - 1s 37us/step - loss: 0.2100 - accuracy: 0.9282\nEpoch 60/60\n25000/25000 [==============================] - 1s 39us/step - loss: 0.2054 - accuracy: 0.9301\nAccuracy:  0.8450800180435181\n"
    }
   ],
   "source": [
    "# less than five minutes later and we're ready to train\n",
    "model = Sequential()\n",
    "model.add(Dense(64, input_shape=(x_train.shape[1],)))\n",
    "model.add(Activation('sigmoid'))\n",
    "model.add(Dense(32))\n",
    "model.add(Activation('relu'))\n",
    "model.add(Dropout(0.22))\n",
    "model.add(Dense(16))\n",
    "model.add(Activation('relu'))\n",
    "model.add(Dropout(0.22))\n",
    "model.add(Dense(8))\n",
    "model.add(Activation('tanh'))\n",
    "model.add(Dropout(0.22))\n",
    "model.add(Dense(4))\n",
    "model.add(Activation('softmax'))\n",
    "model.add(Dropout(0.22))\n",
    "model.add(Dense(2))\n",
    "model.add(Activation('sigmoid'))\n",
    "\n",
    "\n",
    "model.compile(loss='categorical_crossentropy',\n",
    "             optimizer='adam',\n",
    "             metrics=['accuracy'])\n",
    "history = model.fit(x_train,\n",
    "                    y_train,\n",
    "                   epochs=60,\n",
    "                   batch_size=150)\n",
    "score = model.evaluate(x_test, y_test, verbose=0)\n",
    "print(\"Accuracy: \", score[1])"
   ]
  },
  {
   "cell_type": "markdown",
   "metadata": {},
   "source": [
    "Very anti-climatic\n",
    "\n",
    "That did nothing. I mean, technically, it did - but to no significant effect. Additionally, I dont know anything about the data. I know that it's movie reviews and the model is predicitng sentiment, but if I wanted to improve this model, I'm left to only modifying the structure and parameters, and at a high dimension at that. Models shouldn't be totally abstracted from the data they are meant to receive. Lets find the data in its raw form and build a simple model ground up."
   ]
  }
 ]
}